{
 "cells": [
  {
   "cell_type": "markdown",
   "id": "c50b2002-11bb-4f3e-a78a-f39968f204a9",
   "metadata": {},
   "source": [
    "## <strong> 7. 데이터셋 결합 </strong>"
   ]
  },
  {
   "cell_type": "code",
   "execution_count": null,
   "id": "46870d17",
   "metadata": {},
   "outputs": [],
   "source": [
    "# 라이브러리 불러오기\n",
    "import pandas as pd\n",
    "import numpy as np"
   ]
  },
  {
   "cell_type": "markdown",
   "id": "ebf2ce62-2535-4dbb-a52b-f43ab5d36c12",
   "metadata": {},
   "source": [
    "### <strong> 1차원 데이터(List, Series)의 연결\n",
    "---"
   ]
  },
  {
   "cell_type": "code",
   "execution_count": null,
   "id": "446d206a",
   "metadata": {},
   "outputs": [],
   "source": [
    "# List 객체 생성\n",
    "x = [1, 2, 3]\n",
    "y = [4, 5, 6]\n",
    "z = [7, 8, 9]\n",
    "\n",
    "# [+] numpy.concatenate()를 이용한 단순 연결\n",
    "..."
   ]
  },
  {
   "cell_type": "code",
   "execution_count": null,
   "id": "f6aefa5f",
   "metadata": {},
   "outputs": [],
   "source": [
    "# Series 객체 생성\n",
    "ser1 = pd.Series(['A', 'B', 'C'], index=[1, 2, 3])\n",
    "ser2 = pd.Series(['D', 'E', 'F'], index=[4, 5, 6])\n",
    "\n",
    "# [+] pd.concat()을 이용한 두 개의 Series 연결\n",
    "..."
   ]
  },
  {
   "cell_type": "markdown",
   "id": "5f1b7f4b-eabb-451f-b56c-6a0c17331516",
   "metadata": {},
   "source": [
    "### <strong> 2차원 데이터(DataFrame)의 연결 </strong>\n",
    "---"
   ]
  },
  {
   "cell_type": "code",
   "execution_count": null,
   "id": "766d6b36",
   "metadata": {},
   "outputs": [],
   "source": [
    "# DataFrame 생성 함수\n",
    "def make_df(cols, ind):\n",
    "    data = {c: [str(c) + str(i) for i in ind]\n",
    "           for c in cols}\n",
    "\n",
    "    return pd.DataFrame(data, ind)\n",
    "\n",
    "print(make_df('ABC', [1, 2]))"
   ]
  },
  {
   "cell_type": "code",
   "execution_count": null,
   "id": "a6e7d4fa",
   "metadata": {},
   "outputs": [],
   "source": [
    "# DataFrame 객체 생성\n",
    "df1 = make_df('AB', [1, 2])\n",
    "df2 = make_df('AB', [3, 4])\n",
    "\n",
    "print(df1, '\\n')\n",
    "print(df2, '\\n')\n",
    "\n",
    "# pd.concat()을 이용한 DataFrame 연결\n",
    "pd.concat([df1, df2])"
   ]
  },
  {
   "cell_type": "code",
   "execution_count": null,
   "id": "c4fdf106",
   "metadata": {},
   "outputs": [],
   "source": [
    "df3 = make_df('AB', [0, 1])\n",
    "df4 = make_df('CD', [0, 1])\n",
    "\n",
    "print(df3, '\\n')\n",
    "print(df4, '\\n')\n",
    "\n",
    "# [+] DataFrame을 열 방향으로 연결\n",
    "..."
   ]
  },
  {
   "cell_type": "markdown",
   "id": "a4e20ec6-3030-4abd-bcb7-6e8ed4ab7c86",
   "metadata": {},
   "source": [
    "### <strong> ```pd.concat()``` 연결 옵션 </strong>"
   ]
  },
  {
   "cell_type": "code",
   "execution_count": null,
   "id": "d03f1319",
   "metadata": {
    "scrolled": true
   },
   "outputs": [],
   "source": [
    "# pandas는 기본적으로 인덱스 중복을 허용한다.\n",
    "\n",
    "x = make_df('AB', [0, 1])\n",
    "y = make_df('AB', [0, 1])\n",
    "\n",
    "print(x, '\\n')\n",
    "print(y, '\\n')\n",
    "\n",
    "pd.concat([x, y])"
   ]
  },
  {
   "cell_type": "code",
   "execution_count": null,
   "id": "13563a72",
   "metadata": {},
   "outputs": [],
   "source": [
    "# [+] 연결 옵션: 인덱스 중복 에러 처리\n",
    "..."
   ]
  },
  {
   "cell_type": "code",
   "execution_count": null,
   "id": "3ddfd5a7",
   "metadata": {},
   "outputs": [],
   "source": [
    "# [+] 연결 옵션: 기존 인덱스 무시 (인덱스 재생성\n",
    "..."
   ]
  },
  {
   "cell_type": "markdown",
   "id": "bfe5fa3d-3db1-470a-8fc4-5a691d1bcb40",
   "metadata": {},
   "source": [
    "#### ```concat()```의 조인 옵션\n",
    "서로 다른 열 집합을 가지는 DataFrame 객체를 연결\n",
    "+ ```join='outer'```: 외부 조인(합집합, 디폴트 옵션)\n",
    "+ ```join='inner'```: 내부 조인(교집합)"
   ]
  },
  {
   "cell_type": "code",
   "execution_count": null,
   "id": "35cdb13d",
   "metadata": {},
   "outputs": [],
   "source": [
    "# DataFrame 객체 생성\n",
    "x = make_df('ABC', [1, 2])\n",
    "y = make_df('BCD', [3, 4])\n",
    "\n",
    "print(x, '\\n')\n",
    "print(y, '\\n')\n",
    "\n",
    "# [+] 외부 조인\n",
    "..."
   ]
  },
  {
   "cell_type": "code",
   "execution_count": null,
   "id": "ed497327",
   "metadata": {},
   "outputs": [],
   "source": [
    "# [+] 내부 조인\n",
    "..."
   ]
  },
  {
   "cell_type": "markdown",
   "id": "6b8ee00b-6427-459b-b75f-8719a808ccc2",
   "metadata": {},
   "source": [
    "### <strong> DataFrame의 병합 및 조인 </strong>\n",
    "---\n",
    "+ 일대일 조인\n",
    "+ 다대일 조인\n",
    "+ 다대다 조인"
   ]
  },
  {
   "cell_type": "code",
   "execution_count": null,
   "id": "74a3ef6f",
   "metadata": {},
   "outputs": [],
   "source": [
    "# 직원 별 부서 정보에 대한 DataFrame\n",
    "df1 = pd.DataFrame({\n",
    "    'employee': ['Bob', 'Jake', 'Lisa', 'Sue'],\n",
    "    'group': ['Accounting', 'Engineering', 'Engineering', 'HR']\n",
    "})\n",
    "\n",
    "# 직원 별 입사년도에 대한 DataFrame\n",
    "df2 = pd.DataFrame({\n",
    "    'employee': ['Lisa', 'Bob', 'Jake', 'Sue'],\n",
    "    'hire_date': [2004, 2008, 2012, 2014]\n",
    "})\n",
    "\n",
    "\n",
    "print(df1, '\\n')\n",
    "print(df2)"
   ]
  },
  {
   "cell_type": "code",
   "execution_count": null,
   "id": "747b833f",
   "metadata": {},
   "outputs": [],
   "source": [
    "# 일대일 조인\n",
    "df3 = pd.merge(df1, df2)\n",
    "df3"
   ]
  },
  {
   "cell_type": "code",
   "execution_count": null,
   "id": "639dfbb8",
   "metadata": {},
   "outputs": [],
   "source": [
    "# 다대일 조인\n",
    "\n",
    "# 그룹 별 관리자에 대한 DataFrame\n",
    "df4 = pd.DataFrame({\n",
    "    'group': ['Accounting', 'Engineering', 'HR'],\n",
    "    'supervisor': ['Carly', 'Guido', 'Steve']\n",
    "})\n",
    "\n",
    "print(df3, '\\n')\n",
    "print(df4, '\\n')\n",
    "\n",
    "pd.merge(df3, df4)"
   ]
  },
  {
   "cell_type": "code",
   "execution_count": null,
   "id": "491b3e20",
   "metadata": {},
   "outputs": [],
   "source": [
    "# 다대다 조인\n",
    "\n",
    "# 그룹 별 요구역량에 대한 DataFrame\n",
    "df5 = pd.DataFrame({\n",
    "    'group': ['Accounting', 'Accounting',\n",
    "              'Engineering', 'Engineering',\n",
    "              'HR', 'HR'],\n",
    "    'skills': ['math', 'spreadsheets', 'coding',\n",
    "            'linux', 'spreadsheets', 'organization']\n",
    "})\n",
    "\n",
    "print(df1, '\\n')\n",
    "print(df5, '\\n')\n",
    "\n",
    "pd.merge(df1, df5)"
   ]
  },
  {
   "cell_type": "markdown",
   "id": "30944db0-8384-4b2a-8aef-10b58d076379",
   "metadata": {},
   "source": [
    "#### ```pd.merge()``` 병합 옵션"
   ]
  },
  {
   "cell_type": "code",
   "execution_count": null,
   "id": "26da4b61",
   "metadata": {},
   "outputs": [],
   "source": [
    "# 두 DataFrame에 공통 열('age') 추가\n",
    "df1['age'] = pd.Series([20, 42, 37, 25])\n",
    "df2['age'] = pd.Series([37, 20, 42, 25])\n",
    "\n",
    "print(df1, '\\n')\n",
    "print(df2, '\\n')\n",
    "\n",
    "# [+] on 매개변수를 이용하여 `employee`를 병합 키로 사용\n",
    "..."
   ]
  },
  {
   "cell_type": "code",
   "execution_count": null,
   "id": "45fedb66",
   "metadata": {},
   "outputs": [],
   "source": [
    "# 직원 별 월급에 대한 DataFrame\n",
    "df6 = pd.DataFrame({\n",
    "    'name': ['Bob', 'Jake', 'Lisa', 'Sue'],\n",
    "    'salary': [70000, 80000, 120000, 90000]\n",
    "})\n",
    "\n",
    "print(df1, '\\n')\n",
    "print(df6, '\\n')\n",
    "\n",
    "# [+] left_on과 'right_on' 매개변수를 이용한 병합키 지정\n",
    "pd.merge(\n",
    "    df1, \n",
    "    df6, \n",
    "    left_on='employee', \n",
    "    right_on='name'\n",
    ")"
   ]
  },
  {
   "cell_type": "markdown",
   "id": "cca64518",
   "metadata": {},
   "source": [
    "#### 인덱스를 이용한 병합"
   ]
  },
  {
   "cell_type": "code",
   "execution_count": null,
   "id": "3de10590",
   "metadata": {},
   "outputs": [],
   "source": [
    "df1a = df1.set_index('employee')\n",
    "df2a = df2.set_index('employee')\n",
    "\n",
    "print(df1a, '\\n')\n",
    "print(df2a, '\\n')\n",
    "\n",
    "# 인덱스를 이용한 병합\n",
    "pd.merge(df1a, df2a, left_index=True, right_index=True)"
   ]
  },
  {
   "cell_type": "markdown",
   "id": "05547c8d-8520-4a17-a20a-6936fa86cf44",
   "metadata": {},
   "source": [
    "#### ```merge()``` 조인 옵션"
   ]
  },
  {
   "cell_type": "code",
   "execution_count": null,
   "id": "edae29c2",
   "metadata": {
    "scrolled": true
   },
   "outputs": [],
   "source": [
    "df1 = make_df('AB', [0, 1])\n",
    "df2 = make_df('AC', [0, 2])\n",
    "\n",
    "print(df1, '\\n')\n",
    "print(df2, '\\n')\n",
    "\n",
    "pd.merge(df1, df2, how='right')"
   ]
  }
 ],
 "metadata": {
  "kernelspec": {
   "display_name": "Python 3 (ipykernel)",
   "language": "python",
   "name": "python3"
  },
  "language_info": {
   "codemirror_mode": {
    "name": "ipython",
    "version": 3
   },
   "file_extension": ".py",
   "mimetype": "text/x-python",
   "name": "python",
   "nbconvert_exporter": "python",
   "pygments_lexer": "ipython3",
   "version": "3.11.3"
  }
 },
 "nbformat": 4,
 "nbformat_minor": 5
}
